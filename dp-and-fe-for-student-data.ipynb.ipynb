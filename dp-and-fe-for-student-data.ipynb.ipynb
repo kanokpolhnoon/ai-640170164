{
  "nbformat": 4,
  "nbformat_minor": 0,
  "metadata": {
    "colab": {
      "provenance": []
    },
    "kernelspec": {
      "name": "python3",
      "display_name": "Python 3"
    },
    "language_info": {
      "name": "python"
    }
  },
  "cells": [
    {
      "cell_type": "code",
      "execution_count": null,
      "metadata": {
        "id": "Dwjb9UKRjpJf"
      },
      "outputs": [],
      "source": []
    },
    {
      "cell_type": "code",
      "execution_count": 2,
      "metadata": {
        "id": "bSFei6_mR9ZK"
      },
      "outputs": [],
      "source": [
        "import pandas as pd\n",
        "import numpy as np\n",
        "from datetime import datetime, timedelta\n",
        "import warnings\n",
        "warnings.filterwarnings('ignore')"
      ]
    },
    {
      "cell_type": "code",
      "source": [
        "df = pd.read_csv(\"studen.csv\")\n",
        "df.head()"
      ],
      "metadata": {
        "colab": {
          "base_uri": "https://localhost:8080/",
          "height": 206
        },
        "id": "N0vzjdtNkIkv",
        "outputId": "9cf80607-90d2-4c60-9893-2e4f926523b4"
      },
      "execution_count": 6,
      "outputs": [
        {
          "output_type": "execute_result",
          "data": {
            "text/plain": [
              "   รหัสนักศึกษา      ชื่อ  อายุ   เพศ             คณะ   GPA  ส่วนสูง_cm  \\\n",
              "0         64001     สมชาย  20.0   ชาย     วิทยาศาสตร์  3.21       170.0   \n",
              "1         64002    สมหญิง  21.0  หญิง           วิทย์  3.45       165.0   \n",
              "2         64003       NaN   NaN  Male         Science  3.67       175.0   \n",
              "3         64004  สมศักดิ์  22.0     ช  คณะวิทยาศาสตร์ -1.00       168.0   \n",
              "4         64005      สมใจ  19.0     ญ           วิศวะ  3.89       160.0   \n",
              "\n",
              "   น้ำหนัก_kg  ชั่วโมงเรียน_ต่อสัปดาห์ วันที่ลงทะเบียน  \n",
              "0        65.0                     15.0      2024-01-24  \n",
              "1        58.0                     20.0      2023-12-19  \n",
              "2         NaN                     25.0      2023-12-17  \n",
              "3        70.0                     10.0      2023-12-21  \n",
              "4        52.0                     30.0      2024-02-07  "
            ],
            "text/html": [
              "\n",
              "  <div id=\"df-ad90bf0f-14ce-4b59-a620-a1286b6600bc\" class=\"colab-df-container\">\n",
              "    <div>\n",
              "<style scoped>\n",
              "    .dataframe tbody tr th:only-of-type {\n",
              "        vertical-align: middle;\n",
              "    }\n",
              "\n",
              "    .dataframe tbody tr th {\n",
              "        vertical-align: top;\n",
              "    }\n",
              "\n",
              "    .dataframe thead th {\n",
              "        text-align: right;\n",
              "    }\n",
              "</style>\n",
              "<table border=\"1\" class=\"dataframe\">\n",
              "  <thead>\n",
              "    <tr style=\"text-align: right;\">\n",
              "      <th></th>\n",
              "      <th>รหัสนักศึกษา</th>\n",
              "      <th>ชื่อ</th>\n",
              "      <th>อายุ</th>\n",
              "      <th>เพศ</th>\n",
              "      <th>คณะ</th>\n",
              "      <th>GPA</th>\n",
              "      <th>ส่วนสูง_cm</th>\n",
              "      <th>น้ำหนัก_kg</th>\n",
              "      <th>ชั่วโมงเรียน_ต่อสัปดาห์</th>\n",
              "      <th>วันที่ลงทะเบียน</th>\n",
              "    </tr>\n",
              "  </thead>\n",
              "  <tbody>\n",
              "    <tr>\n",
              "      <th>0</th>\n",
              "      <td>64001</td>\n",
              "      <td>สมชาย</td>\n",
              "      <td>20.0</td>\n",
              "      <td>ชาย</td>\n",
              "      <td>วิทยาศาสตร์</td>\n",
              "      <td>3.21</td>\n",
              "      <td>170.0</td>\n",
              "      <td>65.0</td>\n",
              "      <td>15.0</td>\n",
              "      <td>2024-01-24</td>\n",
              "    </tr>\n",
              "    <tr>\n",
              "      <th>1</th>\n",
              "      <td>64002</td>\n",
              "      <td>สมหญิง</td>\n",
              "      <td>21.0</td>\n",
              "      <td>หญิง</td>\n",
              "      <td>วิทย์</td>\n",
              "      <td>3.45</td>\n",
              "      <td>165.0</td>\n",
              "      <td>58.0</td>\n",
              "      <td>20.0</td>\n",
              "      <td>2023-12-19</td>\n",
              "    </tr>\n",
              "    <tr>\n",
              "      <th>2</th>\n",
              "      <td>64003</td>\n",
              "      <td>NaN</td>\n",
              "      <td>NaN</td>\n",
              "      <td>Male</td>\n",
              "      <td>Science</td>\n",
              "      <td>3.67</td>\n",
              "      <td>175.0</td>\n",
              "      <td>NaN</td>\n",
              "      <td>25.0</td>\n",
              "      <td>2023-12-17</td>\n",
              "    </tr>\n",
              "    <tr>\n",
              "      <th>3</th>\n",
              "      <td>64004</td>\n",
              "      <td>สมศักดิ์</td>\n",
              "      <td>22.0</td>\n",
              "      <td>ช</td>\n",
              "      <td>คณะวิทยาศาสตร์</td>\n",
              "      <td>-1.00</td>\n",
              "      <td>168.0</td>\n",
              "      <td>70.0</td>\n",
              "      <td>10.0</td>\n",
              "      <td>2023-12-21</td>\n",
              "    </tr>\n",
              "    <tr>\n",
              "      <th>4</th>\n",
              "      <td>64005</td>\n",
              "      <td>สมใจ</td>\n",
              "      <td>19.0</td>\n",
              "      <td>ญ</td>\n",
              "      <td>วิศวะ</td>\n",
              "      <td>3.89</td>\n",
              "      <td>160.0</td>\n",
              "      <td>52.0</td>\n",
              "      <td>30.0</td>\n",
              "      <td>2024-02-07</td>\n",
              "    </tr>\n",
              "  </tbody>\n",
              "</table>\n",
              "</div>\n",
              "    <div class=\"colab-df-buttons\">\n",
              "\n",
              "  <div class=\"colab-df-container\">\n",
              "    <button class=\"colab-df-convert\" onclick=\"convertToInteractive('df-ad90bf0f-14ce-4b59-a620-a1286b6600bc')\"\n",
              "            title=\"Convert this dataframe to an interactive table.\"\n",
              "            style=\"display:none;\">\n",
              "\n",
              "  <svg xmlns=\"http://www.w3.org/2000/svg\" height=\"24px\" viewBox=\"0 -960 960 960\">\n",
              "    <path d=\"M120-120v-720h720v720H120Zm60-500h600v-160H180v160Zm220 220h160v-160H400v160Zm0 220h160v-160H400v160ZM180-400h160v-160H180v160Zm440 0h160v-160H620v160ZM180-180h160v-160H180v160Zm440 0h160v-160H620v160Z\"/>\n",
              "  </svg>\n",
              "    </button>\n",
              "\n",
              "  <style>\n",
              "    .colab-df-container {\n",
              "      display:flex;\n",
              "      gap: 12px;\n",
              "    }\n",
              "\n",
              "    .colab-df-convert {\n",
              "      background-color: #E8F0FE;\n",
              "      border: none;\n",
              "      border-radius: 50%;\n",
              "      cursor: pointer;\n",
              "      display: none;\n",
              "      fill: #1967D2;\n",
              "      height: 32px;\n",
              "      padding: 0 0 0 0;\n",
              "      width: 32px;\n",
              "    }\n",
              "\n",
              "    .colab-df-convert:hover {\n",
              "      background-color: #E2EBFA;\n",
              "      box-shadow: 0px 1px 2px rgba(60, 64, 67, 0.3), 0px 1px 3px 1px rgba(60, 64, 67, 0.15);\n",
              "      fill: #174EA6;\n",
              "    }\n",
              "\n",
              "    .colab-df-buttons div {\n",
              "      margin-bottom: 4px;\n",
              "    }\n",
              "\n",
              "    [theme=dark] .colab-df-convert {\n",
              "      background-color: #3B4455;\n",
              "      fill: #D2E3FC;\n",
              "    }\n",
              "\n",
              "    [theme=dark] .colab-df-convert:hover {\n",
              "      background-color: #434B5C;\n",
              "      box-shadow: 0px 1px 3px 1px rgba(0, 0, 0, 0.15);\n",
              "      filter: drop-shadow(0px 1px 2px rgba(0, 0, 0, 0.3));\n",
              "      fill: #FFFFFF;\n",
              "    }\n",
              "  </style>\n",
              "\n",
              "    <script>\n",
              "      const buttonEl =\n",
              "        document.querySelector('#df-ad90bf0f-14ce-4b59-a620-a1286b6600bc button.colab-df-convert');\n",
              "      buttonEl.style.display =\n",
              "        google.colab.kernel.accessAllowed ? 'block' : 'none';\n",
              "\n",
              "      async function convertToInteractive(key) {\n",
              "        const element = document.querySelector('#df-ad90bf0f-14ce-4b59-a620-a1286b6600bc');\n",
              "        const dataTable =\n",
              "          await google.colab.kernel.invokeFunction('convertToInteractive',\n",
              "                                                    [key], {});\n",
              "        if (!dataTable) return;\n",
              "\n",
              "        const docLinkHtml = 'Like what you see? Visit the ' +\n",
              "          '<a target=\"_blank\" href=https://colab.research.google.com/notebooks/data_table.ipynb>data table notebook</a>'\n",
              "          + ' to learn more about interactive tables.';\n",
              "        element.innerHTML = '';\n",
              "        dataTable['output_type'] = 'display_data';\n",
              "        await google.colab.output.renderOutput(dataTable, element);\n",
              "        const docLink = document.createElement('div');\n",
              "        docLink.innerHTML = docLinkHtml;\n",
              "        element.appendChild(docLink);\n",
              "      }\n",
              "    </script>\n",
              "  </div>\n",
              "\n",
              "\n",
              "    <div id=\"df-8435ca5a-7cdc-4e3c-8bec-df7380ee040b\">\n",
              "      <button class=\"colab-df-quickchart\" onclick=\"quickchart('df-8435ca5a-7cdc-4e3c-8bec-df7380ee040b')\"\n",
              "                title=\"Suggest charts\"\n",
              "                style=\"display:none;\">\n",
              "\n",
              "<svg xmlns=\"http://www.w3.org/2000/svg\" height=\"24px\"viewBox=\"0 0 24 24\"\n",
              "     width=\"24px\">\n",
              "    <g>\n",
              "        <path d=\"M19 3H5c-1.1 0-2 .9-2 2v14c0 1.1.9 2 2 2h14c1.1 0 2-.9 2-2V5c0-1.1-.9-2-2-2zM9 17H7v-7h2v7zm4 0h-2V7h2v10zm4 0h-2v-4h2v4z\"/>\n",
              "    </g>\n",
              "</svg>\n",
              "      </button>\n",
              "\n",
              "<style>\n",
              "  .colab-df-quickchart {\n",
              "      --bg-color: #E8F0FE;\n",
              "      --fill-color: #1967D2;\n",
              "      --hover-bg-color: #E2EBFA;\n",
              "      --hover-fill-color: #174EA6;\n",
              "      --disabled-fill-color: #AAA;\n",
              "      --disabled-bg-color: #DDD;\n",
              "  }\n",
              "\n",
              "  [theme=dark] .colab-df-quickchart {\n",
              "      --bg-color: #3B4455;\n",
              "      --fill-color: #D2E3FC;\n",
              "      --hover-bg-color: #434B5C;\n",
              "      --hover-fill-color: #FFFFFF;\n",
              "      --disabled-bg-color: #3B4455;\n",
              "      --disabled-fill-color: #666;\n",
              "  }\n",
              "\n",
              "  .colab-df-quickchart {\n",
              "    background-color: var(--bg-color);\n",
              "    border: none;\n",
              "    border-radius: 50%;\n",
              "    cursor: pointer;\n",
              "    display: none;\n",
              "    fill: var(--fill-color);\n",
              "    height: 32px;\n",
              "    padding: 0;\n",
              "    width: 32px;\n",
              "  }\n",
              "\n",
              "  .colab-df-quickchart:hover {\n",
              "    background-color: var(--hover-bg-color);\n",
              "    box-shadow: 0 1px 2px rgba(60, 64, 67, 0.3), 0 1px 3px 1px rgba(60, 64, 67, 0.15);\n",
              "    fill: var(--button-hover-fill-color);\n",
              "  }\n",
              "\n",
              "  .colab-df-quickchart-complete:disabled,\n",
              "  .colab-df-quickchart-complete:disabled:hover {\n",
              "    background-color: var(--disabled-bg-color);\n",
              "    fill: var(--disabled-fill-color);\n",
              "    box-shadow: none;\n",
              "  }\n",
              "\n",
              "  .colab-df-spinner {\n",
              "    border: 2px solid var(--fill-color);\n",
              "    border-color: transparent;\n",
              "    border-bottom-color: var(--fill-color);\n",
              "    animation:\n",
              "      spin 1s steps(1) infinite;\n",
              "  }\n",
              "\n",
              "  @keyframes spin {\n",
              "    0% {\n",
              "      border-color: transparent;\n",
              "      border-bottom-color: var(--fill-color);\n",
              "      border-left-color: var(--fill-color);\n",
              "    }\n",
              "    20% {\n",
              "      border-color: transparent;\n",
              "      border-left-color: var(--fill-color);\n",
              "      border-top-color: var(--fill-color);\n",
              "    }\n",
              "    30% {\n",
              "      border-color: transparent;\n",
              "      border-left-color: var(--fill-color);\n",
              "      border-top-color: var(--fill-color);\n",
              "      border-right-color: var(--fill-color);\n",
              "    }\n",
              "    40% {\n",
              "      border-color: transparent;\n",
              "      border-right-color: var(--fill-color);\n",
              "      border-top-color: var(--fill-color);\n",
              "    }\n",
              "    60% {\n",
              "      border-color: transparent;\n",
              "      border-right-color: var(--fill-color);\n",
              "    }\n",
              "    80% {\n",
              "      border-color: transparent;\n",
              "      border-right-color: var(--fill-color);\n",
              "      border-bottom-color: var(--fill-color);\n",
              "    }\n",
              "    90% {\n",
              "      border-color: transparent;\n",
              "      border-bottom-color: var(--fill-color);\n",
              "    }\n",
              "  }\n",
              "</style>\n",
              "\n",
              "      <script>\n",
              "        async function quickchart(key) {\n",
              "          const quickchartButtonEl =\n",
              "            document.querySelector('#' + key + ' button');\n",
              "          quickchartButtonEl.disabled = true;  // To prevent multiple clicks.\n",
              "          quickchartButtonEl.classList.add('colab-df-spinner');\n",
              "          try {\n",
              "            const charts = await google.colab.kernel.invokeFunction(\n",
              "                'suggestCharts', [key], {});\n",
              "          } catch (error) {\n",
              "            console.error('Error during call to suggestCharts:', error);\n",
              "          }\n",
              "          quickchartButtonEl.classList.remove('colab-df-spinner');\n",
              "          quickchartButtonEl.classList.add('colab-df-quickchart-complete');\n",
              "        }\n",
              "        (() => {\n",
              "          let quickchartButtonEl =\n",
              "            document.querySelector('#df-8435ca5a-7cdc-4e3c-8bec-df7380ee040b button');\n",
              "          quickchartButtonEl.style.display =\n",
              "            google.colab.kernel.accessAllowed ? 'block' : 'none';\n",
              "        })();\n",
              "      </script>\n",
              "    </div>\n",
              "\n",
              "    </div>\n",
              "  </div>\n"
            ],
            "application/vnd.google.colaboratory.intrinsic+json": {
              "type": "dataframe",
              "variable_name": "df",
              "summary": "{\n  \"name\": \"df\",\n  \"rows\": 20,\n  \"fields\": [\n    {\n      \"column\": \"\\u0e23\\u0e2b\\u0e31\\u0e2a\\u0e19\\u0e31\\u0e01\\u0e28\\u0e36\\u0e01\\u0e29\\u0e32\",\n      \"properties\": {\n        \"dtype\": \"number\",\n        \"std\": 5,\n        \"min\": 64001,\n        \"max\": 64020,\n        \"num_unique_values\": 20,\n        \"samples\": [\n          64001,\n          64018,\n          64016\n        ],\n        \"semantic_type\": \"\",\n        \"description\": \"\"\n      }\n    },\n    {\n      \"column\": \"\\u0e0a\\u0e37\\u0e48\\u0e2d\",\n      \"properties\": {\n        \"dtype\": \"string\",\n        \"num_unique_values\": 19,\n        \"samples\": [\n          \"\\u0e2a\\u0e21\\u0e0a\\u0e32\\u0e22\",\n          \"\\u0e01\\u0e34\\u0e15\\u0e15\\u0e34\",\n          \"\\u0e1a\\u0e38\\u0e0d\\u0e21\\u0e35\"\n        ],\n        \"semantic_type\": \"\",\n        \"description\": \"\"\n      }\n    },\n    {\n      \"column\": \"\\u0e2d\\u0e32\\u0e22\\u0e38\",\n      \"properties\": {\n        \"dtype\": \"number\",\n        \"std\": 31.337113872888057,\n        \"min\": 19.0,\n        \"max\": 150.0,\n        \"num_unique_values\": 6,\n        \"samples\": [\n          20.0,\n          21.0,\n          23.0\n        ],\n        \"semantic_type\": \"\",\n        \"description\": \"\"\n      }\n    },\n    {\n      \"column\": \"\\u0e40\\u0e1e\\u0e28\",\n      \"properties\": {\n        \"dtype\": \"category\",\n        \"num_unique_values\": 8,\n        \"samples\": [\n          \"\\u0e2b\\u0e0d\\u0e34\\u0e07\",\n          \"F\",\n          \"\\u0e0a\\u0e32\\u0e22\"\n        ],\n        \"semantic_type\": \"\",\n        \"description\": \"\"\n      }\n    },\n    {\n      \"column\": \"\\u0e04\\u0e13\\u0e30\",\n      \"properties\": {\n        \"dtype\": \"string\",\n        \"num_unique_values\": 14,\n        \"samples\": [\n          \"\\u0e28\\u0e34\\u0e25\\u0e1b\\u0e4c\",\n          \"Liberal Arts\",\n          \"\\u0e27\\u0e34\\u0e17\\u0e22\\u0e32\\u0e28\\u0e32\\u0e2a\\u0e15\\u0e23\\u0e4c\"\n        ],\n        \"semantic_type\": \"\",\n        \"description\": \"\"\n      }\n    },\n    {\n      \"column\": \"GPA\",\n      \"properties\": {\n        \"dtype\": \"number\",\n        \"std\": 1.1233256239916989,\n        \"min\": -1.0,\n        \"max\": 4.5,\n        \"num_unique_values\": 13,\n        \"samples\": [\n          3.23,\n          3.56,\n          3.21\n        ],\n        \"semantic_type\": \"\",\n        \"description\": \"\"\n      }\n    },\n    {\n      \"column\": \"\\u0e2a\\u0e48\\u0e27\\u0e19\\u0e2a\\u0e39\\u0e07_cm\",\n      \"properties\": {\n        \"dtype\": \"number\",\n        \"std\": 5.7062600281420695,\n        \"min\": 158.0,\n        \"max\": 180.0,\n        \"num_unique_values\": 18,\n        \"samples\": [\n          170.0,\n          165.0,\n          163.0\n        ],\n        \"semantic_type\": \"\",\n        \"description\": \"\"\n      }\n    },\n    {\n      \"column\": \"\\u0e19\\u0e49\\u0e33\\u0e2b\\u0e19\\u0e31\\u0e01_kg\",\n      \"properties\": {\n        \"dtype\": \"number\",\n        \"std\": 10.27927033854108,\n        \"min\": 48.0,\n        \"max\": 82.0,\n        \"num_unique_values\": 18,\n        \"samples\": [\n          65.0,\n          58.0,\n          60.0\n        ],\n        \"semantic_type\": \"\",\n        \"description\": \"\"\n      }\n    },\n    {\n      \"column\": \"\\u0e0a\\u0e31\\u0e48\\u0e27\\u0e42\\u0e21\\u0e07\\u0e40\\u0e23\\u0e35\\u0e22\\u0e19_\\u0e15\\u0e48\\u0e2d\\u0e2a\\u0e31\\u0e1b\\u0e14\\u0e32\\u0e2b\\u0e4c\",\n      \"properties\": {\n        \"dtype\": \"number\",\n        \"std\": 6.598920490048879,\n        \"min\": 10.0,\n        \"max\": 35.0,\n        \"num_unique_values\": 18,\n        \"samples\": [\n          15.0,\n          20.0,\n          22.0\n        ],\n        \"semantic_type\": \"\",\n        \"description\": \"\"\n      }\n    },\n    {\n      \"column\": \"\\u0e27\\u0e31\\u0e19\\u0e17\\u0e35\\u0e48\\u0e25\\u0e07\\u0e17\\u0e30\\u0e40\\u0e1a\\u0e35\\u0e22\\u0e19\",\n      \"properties\": {\n        \"dtype\": \"object\",\n        \"num_unique_values\": 18,\n        \"samples\": [\n          \"2024-01-24\",\n          \"2023-12-19\",\n          \"2024-01-10\"\n        ],\n        \"semantic_type\": \"\",\n        \"description\": \"\"\n      }\n    }\n  ]\n}"
            }
          },
          "metadata": {},
          "execution_count": 6
        }
      ]
    },
    {
      "cell_type": "code",
      "source": [
        "# 1. ลบช่องว่างหน้า-หลังข้อความทุกคอลัมน์ที่เป็น string\n",
        "df = df.applymap(lambda x: x.strip() if isinstance(x, str) else x)"
      ],
      "metadata": {
        "id": "RyWS4VagKyHk"
      },
      "execution_count": 21,
      "outputs": []
    },
    {
      "cell_type": "code",
      "source": [
        "# 2. แก้ค่าที่ไม่สอดคล้องกันในคอลัมน์ \"เพศ\"\n",
        "gender_map = {\n",
        "    'ชาย': 'ชาย',\n",
        "    'ช': 'ชาย',\n",
        "    'Male': 'ชาย',\n",
        "    'หญิง': 'หญิง',\n",
        "    'ญ': 'หญิง',\n",
        "    'Female': 'หญิง'\n",
        "}\n",
        "df['เพศ'] = df['เพศ'].replace(gender_map)"
      ],
      "metadata": {
        "id": "VcZBwswuK4Gl"
      },
      "execution_count": 22,
      "outputs": []
    },
    {
      "cell_type": "code",
      "source": [
        "# 3. จัดการค่าที่ผิดปกติใน GPA (เช่น ค่า < 0 หรือ > 4)\n",
        "df.loc[(df['GPA'] < 0) | (df['GPA'] > 4), 'GPA'] = np.nan"
      ],
      "metadata": {
        "id": "mcovSSH2K9MG"
      },
      "execution_count": 23,
      "outputs": []
    },
    {
      "cell_type": "code",
      "source": [
        "# 4. เติม missing values\n",
        "# อายุ: ใช้ค่าเฉลี่ย\n",
        "df['อายุ'] = df['อายุ'].fillna(df['อายุ'].mean())\n",
        "# น้ำหนัก: ใช้ค่าเฉลี่ย\n",
        "df['น้ำหนัก_kg'] = df['น้ำหนัก_kg'].fillna(df['น้ำหนัก_kg'].mean())\n",
        "# ชื่อ: ถ้าไม่มีชื่อให้ใส่ \"ไม่ทราบ\"\n",
        "df['ชื่อ'] = df['ชื่อ'].fillna('ไม่ทราบ')\n",
        "# คณะ: ใช้ forward fill\n",
        "df['คณะ'] = df['คณะ'].fillna(method='ffill')"
      ],
      "metadata": {
        "id": "lLgl3DTrLEEY"
      },
      "execution_count": 24,
      "outputs": []
    },
    {
      "cell_type": "code",
      "source": [
        "# 5. แปลงวันที่ให้เป็น datetime\n",
        "df['วันที่ลงทะเบียน'] = pd.to_datetime(df['วันที่ลงทะเบียน'], errors='coerce')"
      ],
      "metadata": {
        "id": "oA-G9gFqLIJp"
      },
      "execution_count": 25,
      "outputs": []
    },
    {
      "cell_type": "code",
      "source": [
        "# 6. ตรวจสอบผลลัพธ์หลังทำความสะอาด\n",
        "print(df.info())\n",
        "print(df.head())"
      ],
      "metadata": {
        "colab": {
          "base_uri": "https://localhost:8080/"
        },
        "id": "VW08BGG2LLEe",
        "outputId": "e56389ec-e9fb-41ae-cc54-9e3b5708e494"
      },
      "execution_count": 26,
      "outputs": [
        {
          "output_type": "stream",
          "name": "stdout",
          "text": [
            "<class 'pandas.core.frame.DataFrame'>\n",
            "RangeIndex: 20 entries, 0 to 19\n",
            "Data columns (total 10 columns):\n",
            " #   Column                   Non-Null Count  Dtype         \n",
            "---  ------                   --------------  -----         \n",
            " 0   รหัสนักศึกษา             20 non-null     int64         \n",
            " 1   ชื่อ                     20 non-null     object        \n",
            " 2   อายุ                     20 non-null     float64       \n",
            " 3   เพศ                      18 non-null     object        \n",
            " 4   คณะ                      20 non-null     object        \n",
            " 5   GPA                      16 non-null     float64       \n",
            " 6   ส่วนสูง_cm               19 non-null     float64       \n",
            " 7   น้ำหนัก_kg               20 non-null     float64       \n",
            " 8   ชั่วโมงเรียน_ต่อสัปดาห์  18 non-null     float64       \n",
            " 9   วันที่ลงทะเบียน          20 non-null     datetime64[ns]\n",
            "dtypes: datetime64[ns](1), float64(5), int64(1), object(3)\n",
            "memory usage: 1.7+ KB\n",
            "None\n",
            "   รหัสนักศึกษา      ชื่อ       อายุ   เพศ             คณะ   GPA  ส่วนสูง_cm  \\\n",
            "0         64001     สมชาย  20.000000   ชาย     วิทยาศาสตร์  3.21       170.0   \n",
            "1         64002    สมหญิง  21.000000  หญิง           วิทย์  3.45       165.0   \n",
            "2         64003   ไม่ทราบ  28.470588   ชาย         Science  3.67       175.0   \n",
            "3         64004  สมศักดิ์  22.000000   ชาย  คณะวิทยาศาสตร์   NaN       168.0   \n",
            "4         64005      สมใจ  19.000000  หญิง           วิศวะ  3.89       160.0   \n",
            "\n",
            "   น้ำหนัก_kg  ชั่วโมงเรียน_ต่อสัปดาห์ วันที่ลงทะเบียน  \n",
            "0   65.000000                     15.0      2024-01-24  \n",
            "1   58.000000                     20.0      2023-12-19  \n",
            "2   63.611111                     25.0      2023-12-17  \n",
            "3   70.000000                     10.0      2023-12-21  \n",
            "4   52.000000                     30.0      2024-02-07  \n"
          ]
        }
      ]
    },
    {
      "cell_type": "code",
      "source": [
        "df['ส่วนสูง_m'] = df['ส่วนสูง_cm'] / 100\n",
        "df['BMI'] = df['น้ำหนัก_kg'] / (df['ส่วนสูง_m'] ** 2)\n",
        "\n",
        "def bmi_category(bmi):\n",
        "    if bmi < 18.5:\n",
        "        return 'น้ำหนักน้อย'\n",
        "    elif bmi < 23:\n",
        "        return 'ปกติ'\n",
        "    elif bmi < 25:\n",
        "        return 'น้ำหนักเกิน'\n",
        "    else:\n",
        "        return 'อ้วน'\n",
        "df['BMI_Category'] = df['BMI'].apply(bmi_category)\n",
        "\n",
        "df['Age_Group'] = pd.cut(df['อายุ'],\n",
        "                         bins=[0, 18, 22, 25, 30, np.inf],\n",
        "                         labels=['<=18', '19-22', '23-25', '26-30', '30+'])\n",
        "\n",
        "df['Register_Week'] = df['วันที่ลงทะเบียน'].dt.isocalendar().week\n",
        "\n",
        "df['GPA_Level'] = pd.cut(df['GPA'],\n",
        "                         bins=[0, 2, 3, 3.5, 4],\n",
        "                         labels=['ต่ำ', 'ปานกลาง', 'ดี', 'ดีมาก'])\n",
        "\n",
        "df['ชั่วโมงเรียน_ต่อปี'] = df['ชั่วโมงเรียน_ต่อสัปดาห์'] * 52\n",
        "\n",
        "df['Gender_Code'] = df['เพศ'].map({'ชาย': 0, 'หญิง': 1})"
      ],
      "metadata": {
        "id": "MnAxSKUDLfm-"
      },
      "execution_count": 30,
      "outputs": []
    },
    {
      "cell_type": "code",
      "source": [
        "\n",
        "print(df.head())"
      ],
      "metadata": {
        "colab": {
          "base_uri": "https://localhost:8080/"
        },
        "id": "wKSYZwDTL4TE",
        "outputId": "eae37f36-0f46-427f-b0c3-0c6b086b14ca"
      },
      "execution_count": 31,
      "outputs": [
        {
          "output_type": "stream",
          "name": "stdout",
          "text": [
            "   รหัสนักศึกษา      ชื่อ       อายุ   เพศ             คณะ   GPA  ส่วนสูง_cm  \\\n",
            "0         64001     สมชาย  20.000000   ชาย     วิทยาศาสตร์  3.21       170.0   \n",
            "1         64002    สมหญิง  21.000000  หญิง           วิทย์  3.45       165.0   \n",
            "2         64003   ไม่ทราบ  28.470588   ชาย         Science  3.67       175.0   \n",
            "3         64004  สมศักดิ์  22.000000   ชาย  คณะวิทยาศาสตร์   NaN       168.0   \n",
            "4         64005      สมใจ  19.000000  หญิง           วิศวะ  3.89       160.0   \n",
            "\n",
            "   น้ำหนัก_kg  ชั่วโมงเรียน_ต่อสัปดาห์ วันที่ลงทะเบียน  ส่วนสูง_m        BMI  \\\n",
            "0   65.000000                     15.0      2024-01-24       1.70  22.491349   \n",
            "1   58.000000                     20.0      2023-12-19       1.65  21.303949   \n",
            "2   63.611111                     25.0      2023-12-17       1.75  20.770975   \n",
            "3   70.000000                     10.0      2023-12-21       1.68  24.801587   \n",
            "4   52.000000                     30.0      2024-02-07       1.60  20.312500   \n",
            "\n",
            "  BMI_Category Age_Group  Register_Week GPA_Level  ชั่วโมงเรียน_ต่อปี  \\\n",
            "0         ปกติ     19-22              4        ดี               780.0   \n",
            "1         ปกติ     19-22             51        ดี              1040.0   \n",
            "2         ปกติ     26-30             50     ดีมาก              1300.0   \n",
            "3  น้ำหนักเกิน     19-22             51       NaN               520.0   \n",
            "4         ปกติ     19-22              6     ดีมาก              1560.0   \n",
            "\n",
            "   Gender_Code  \n",
            "0          0.0  \n",
            "1          1.0  \n",
            "2          0.0  \n",
            "3          0.0  \n",
            "4          1.0  \n"
          ]
        }
      ]
    },
    {
      "cell_type": "code",
      "source": [
        "# ดูข้อมูลเบื้องต้น\n",
        "print(df.info())\n",
        "print(df.describe())\n",
        "print(df.head())"
      ],
      "metadata": {
        "colab": {
          "base_uri": "https://localhost:8080/"
        },
        "id": "wg3ooVQ3MTka",
        "outputId": "c155f03c-e68c-4efa-f176-cb893ab8c55b"
      },
      "execution_count": 32,
      "outputs": [
        {
          "output_type": "stream",
          "name": "stdout",
          "text": [
            "<class 'pandas.core.frame.DataFrame'>\n",
            "RangeIndex: 20 entries, 0 to 19\n",
            "Data columns (total 18 columns):\n",
            " #   Column                   Non-Null Count  Dtype         \n",
            "---  ------                   --------------  -----         \n",
            " 0   รหัสนักศึกษา             20 non-null     int64         \n",
            " 1   ชื่อ                     20 non-null     object        \n",
            " 2   อายุ                     20 non-null     float64       \n",
            " 3   เพศ                      18 non-null     object        \n",
            " 4   คณะ                      20 non-null     object        \n",
            " 5   GPA                      16 non-null     float64       \n",
            " 6   ส่วนสูง_cm               19 non-null     float64       \n",
            " 7   น้ำหนัก_kg               20 non-null     float64       \n",
            " 8   ชั่วโมงเรียน_ต่อสัปดาห์  18 non-null     float64       \n",
            " 9   วันที่ลงทะเบียน          20 non-null     datetime64[ns]\n",
            " 10  ส่วนสูง_m                19 non-null     float64       \n",
            " 11  BMI                      19 non-null     float64       \n",
            " 12  BMI_Category             20 non-null     object        \n",
            " 13  Age_Group                20 non-null     category      \n",
            " 14  Register_Week            20 non-null     UInt32        \n",
            " 15  GPA_Level                16 non-null     category      \n",
            " 16  ชั่วโมงเรียน_ต่อปี       18 non-null     float64       \n",
            " 17  Gender_Code              16 non-null     float64       \n",
            "dtypes: UInt32(1), category(2), datetime64[ns](1), float64(9), int64(1), object(4)\n",
            "memory usage: 3.0+ KB\n",
            "None\n",
            "       รหัสนักศึกษา        อายุ        GPA  ส่วนสูง_cm  น้ำหนัก_kg  \\\n",
            "count      20.00000   20.000000  16.000000   19.000000   20.000000   \n",
            "mean    64010.50000   28.470588   3.433125  167.684211   63.611111   \n",
            "min     64001.00000   19.000000   2.980000  158.000000   48.000000   \n",
            "25%     64005.75000   20.000000   3.225000  163.500000   55.750000   \n",
            "50%     64010.50000   21.000000   3.450000  168.000000   63.611111   \n",
            "75%     64015.25000   22.250000   3.670000  171.500000   70.500000   \n",
            "max     64020.00000  150.000000   3.890000  180.000000   82.000000   \n",
            "std         5.91608   28.756908   0.293297    5.706260    9.723216   \n",
            "\n",
            "       ชั่วโมงเรียน_ต่อสัปดาห์      วันที่ลงทะเบียน  ส่วนสูง_m        BMI  \\\n",
            "count                18.000000                   20  19.000000  19.000000   \n",
            "mean                 21.388889  2024-01-09 22:48:00   1.676842  22.410029   \n",
            "min                  10.000000  2023-12-17 00:00:00   1.580000  19.227688   \n",
            "25%                  16.500000  2023-12-24 12:00:00   1.635000  20.735896   \n",
            "50%                  21.500000  2024-01-11 12:00:00   1.680000  21.754082   \n",
            "75%                  25.750000  2024-01-24 12:00:00   1.715000  24.951989   \n",
            "max                  35.000000  2024-02-07 00:00:00   1.800000  26.061679   \n",
            "std                   6.598920                  NaN   0.057063   2.238530   \n",
            "\n",
            "       Register_Week  ชั่วโมงเรียน_ต่อปี  Gender_Code  \n",
            "count           20.0           18.000000    16.000000  \n",
            "mean           22.65         1112.222222     0.500000  \n",
            "min              1.0          520.000000     0.000000  \n",
            "25%              3.0          858.000000     0.000000  \n",
            "50%              5.5         1118.000000     0.500000  \n",
            "75%             51.0         1339.000000     1.000000  \n",
            "max             52.0         1820.000000     1.000000  \n",
            "std         23.99183          343.143865     0.516398  \n",
            "   รหัสนักศึกษา      ชื่อ       อายุ   เพศ             คณะ   GPA  ส่วนสูง_cm  \\\n",
            "0         64001     สมชาย  20.000000   ชาย     วิทยาศาสตร์  3.21       170.0   \n",
            "1         64002    สมหญิง  21.000000  หญิง           วิทย์  3.45       165.0   \n",
            "2         64003   ไม่ทราบ  28.470588   ชาย         Science  3.67       175.0   \n",
            "3         64004  สมศักดิ์  22.000000   ชาย  คณะวิทยาศาสตร์   NaN       168.0   \n",
            "4         64005      สมใจ  19.000000  หญิง           วิศวะ  3.89       160.0   \n",
            "\n",
            "   น้ำหนัก_kg  ชั่วโมงเรียน_ต่อสัปดาห์ วันที่ลงทะเบียน  ส่วนสูง_m        BMI  \\\n",
            "0   65.000000                     15.0      2024-01-24       1.70  22.491349   \n",
            "1   58.000000                     20.0      2023-12-19       1.65  21.303949   \n",
            "2   63.611111                     25.0      2023-12-17       1.75  20.770975   \n",
            "3   70.000000                     10.0      2023-12-21       1.68  24.801587   \n",
            "4   52.000000                     30.0      2024-02-07       1.60  20.312500   \n",
            "\n",
            "  BMI_Category Age_Group  Register_Week GPA_Level  ชั่วโมงเรียน_ต่อปี  \\\n",
            "0         ปกติ     19-22              4        ดี               780.0   \n",
            "1         ปกติ     19-22             51        ดี              1040.0   \n",
            "2         ปกติ     26-30             50     ดีมาก              1300.0   \n",
            "3  น้ำหนักเกิน     19-22             51       NaN               520.0   \n",
            "4         ปกติ     19-22              6     ดีมาก              1560.0   \n",
            "\n",
            "   Gender_Code  \n",
            "0          0.0  \n",
            "1          1.0  \n",
            "2          0.0  \n",
            "3          0.0  \n",
            "4          1.0  \n"
          ]
        }
      ]
    },
    {
      "cell_type": "code",
      "source": [
        "# สร้าง log เก็บประวัติการแก้ไข\n",
        "changes_log = []\n",
        "\n",
        "# 1. แทนค่า GPA ที่เป็น -1 ด้วย NaN\n",
        "df.loc[df['GPA'] < 0, 'GPA'] = np.nan\n",
        "changes_log.append(\"แทนค่า GPA ที่เป็น -1 ด้วย NaN\")\n",
        "\n",
        "# 2. เติมค่า GPA ที่หายไปด้วยค่าเฉลี่ย\n",
        "mean_gpa = df['GPA'].mean()\n",
        "df['GPA'] = df['GPA'].fillna(mean_gpa)\n",
        "changes_log.append(f\"เติม GPA ที่หายด้วยค่าเฉลี่ย {mean_gpa:.2f}\")\n",
        "\n",
        "# 3. แสดง log\n",
        "for change in changes_log:\n",
        "    print(\"-\", change)"
      ],
      "metadata": {
        "colab": {
          "base_uri": "https://localhost:8080/"
        },
        "id": "0WT59LYBMsUU",
        "outputId": "64f599d6-7618-4399-af95-c9fc72f8062d"
      },
      "execution_count": 34,
      "outputs": [
        {
          "output_type": "stream",
          "name": "stdout",
          "text": [
            "- แทนค่า GPA ที่เป็น -1 ด้วย NaN\n",
            "- เติม GPA ที่หายด้วยค่าเฉลี่ย 3.43\n"
          ]
        }
      ]
    },
    {
      "cell_type": "code",
      "source": [
        "# สร้าง log การแก้ไข\n",
        "changes_log = []\n",
        "changes_log.append(\"แทนค่า GPA -1 ด้วย NaN\")\n",
        "changes_log.append(f\"เติม GPA ที่หายด้วยค่าเฉลี่ย {mean_gpa:.2f}\")"
      ],
      "metadata": {
        "id": "5jmBcY9KMXkR"
      },
      "execution_count": 35,
      "outputs": []
    },
    {
      "cell_type": "code",
      "source": [
        "import pandas as pd\n",
        "import numpy as np\n",
        "\n",
        "df = pd.DataFrame({\n",
        "    'A': [1, 2, np.nan],\n",
        "    'B': [4, 5, 6]\n",
        "})\n",
        "\n",
        "# เติมค่า A ที่หาย\n",
        "df['A'] = df['A'].fillna(df['A'].mean())\n",
        "\n",
        "# ตรวจสอบว่าไม่มี NaN เหลือ\n",
        "assert df.isnull().sum().sum() == 0, \"ยังมีค่าหายอยู่!\"\n",
        "print(\"ผ่านการตรวจสอบ: ไม่มีค่าหาย\")\n"
      ],
      "metadata": {
        "colab": {
          "base_uri": "https://localhost:8080/"
        },
        "id": "YPdY3d_mM2kx",
        "outputId": "57ff3321-6354-4084-8112-8a08c80aa899"
      },
      "execution_count": 37,
      "outputs": [
        {
          "output_type": "stream",
          "name": "stdout",
          "text": [
            "ผ่านการตรวจสอบ: ไม่มีค่าหาย\n"
          ]
        }
      ]
    },
    {
      "cell_type": "code",
      "source": [
        "print(df.isnull().sum())\n",
        "assert df.isnull().sum().sum() == 0, \"ยังมีค่าหายอยู่!\""
      ],
      "metadata": {
        "colab": {
          "base_uri": "https://localhost:8080/"
        },
        "id": "y7csj3zgM54-",
        "outputId": "dab851d5-db12-4d2e-ae27-dbb0e73560b2"
      },
      "execution_count": 38,
      "outputs": [
        {
          "output_type": "stream",
          "name": "stdout",
          "text": [
            "A    0\n",
            "B    0\n",
            "dtype: int64\n"
          ]
        }
      ]
    }
  ]
}